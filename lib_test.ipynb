{
 "cells": [
  {
   "cell_type": "code",
   "execution_count": 1,
   "metadata": {
    "collapsed": true,
    "pycharm": {
     "name": "#%%\n"
    }
   },
   "outputs": [],
   "source": [
    "import black_scholes as bs\n",
    "import fin_data_factory as fdf\n",
    "import fin_data_transforms as fdt\n",
    "import pandas as pd"
   ]
  },
  {
   "cell_type": "code",
   "execution_count": 2,
   "outputs": [],
   "source": [
    "S = 100  # Current stock price\n",
    "K = 100  # Strike price\n",
    "T = 1    # Time to expiration (1 year)\n",
    "r = 0.05 # Risk-free interest rate (5%)\n",
    "sigma = 0.2 # Volatility (20%)"
   ],
   "metadata": {
    "collapsed": false,
    "pycharm": {
     "name": "#%%\n"
    }
   }
  },
  {
   "cell_type": "code",
   "execution_count": 3,
   "outputs": [
    {
     "name": "stdout",
     "output_type": "stream",
     "text": [
      "10.450583572185565\n"
     ]
    }
   ],
   "source": [
    "call_price = bs.black_scholes_call(S, K, T, r, sigma)\n",
    "print(call_price)"
   ],
   "metadata": {
    "collapsed": false,
    "pycharm": {
     "name": "#%%\n"
    }
   }
  },
  {
   "cell_type": "code",
   "execution_count": 4,
   "outputs": [
    {
     "name": "stdout",
     "output_type": "stream",
     "text": [
      "5.573526022256971\n"
     ]
    }
   ],
   "source": [
    "put_price = bs.black_scholes_put(S, K, T, r, sigma)\n",
    "print(put_price)"
   ],
   "metadata": {
    "collapsed": false,
    "pycharm": {
     "name": "#%%\n"
    }
   }
  },
  {
   "cell_type": "code",
   "execution_count": 5,
   "outputs": [
    {
     "name": "stderr",
     "output_type": "stream",
     "text": [
      "[*********************100%%**********************]  1 of 1 completed"
     ]
    },
    {
     "name": "stdout",
     "output_type": "stream",
     "text": [
      "                  Open        High         Low       Close   Adj Close  \\\n",
      "Date                                                                     \n",
      "2023-01-03  130.279999  130.899994  124.169998  125.070000  124.216286   \n",
      "2023-01-04  126.889999  128.660004  125.080002  126.360001  125.497505   \n",
      "2023-01-05  127.129997  127.769997  124.760002  125.019997  124.166641   \n",
      "2023-01-06  126.010002  130.289993  124.889999  129.619995  128.735229   \n",
      "2023-01-09  130.470001  133.410004  129.889999  130.149994  129.261627   \n",
      "...                ...         ...         ...         ...         ...   \n",
      "2023-03-24  158.860001  160.339996  157.850006  160.250000  159.399185   \n",
      "2023-03-27  159.940002  160.770004  157.869995  158.279999  157.439651   \n",
      "2023-03-28  157.970001  158.490005  155.979996  157.649994  156.812973   \n",
      "2023-03-29  159.369995  161.050003  159.350006  160.770004  159.916428   \n",
      "2023-03-30  161.529999  162.470001  161.270004  162.360001  161.497986   \n",
      "\n",
      "               Volume  \n",
      "Date                   \n",
      "2023-01-03  112117500  \n",
      "2023-01-04   89113600  \n",
      "2023-01-05   80962700  \n",
      "2023-01-06   87754700  \n",
      "2023-01-09   70790800  \n",
      "...               ...  \n",
      "2023-03-24   59196500  \n",
      "2023-03-27   52390300  \n",
      "2023-03-28   45992200  \n",
      "2023-03-29   51305700  \n",
      "2023-03-30   49501700  \n",
      "\n",
      "[61 rows x 6 columns]\n"
     ]
    },
    {
     "name": "stderr",
     "output_type": "stream",
     "text": [
      "\n"
     ]
    }
   ],
   "source": [
    "ticker_symbol = 'AAPL'\n",
    "start_date = '2023-01-01'\n",
    "end_date = '2023-03-31'\n",
    "stock_data = fdf.get_stock_data(ticker_symbol, start_date, end_date)\n",
    "\n",
    "print(stock_data)"
   ],
   "metadata": {
    "collapsed": false,
    "pycharm": {
     "name": "#%%\n"
    }
   }
  },
  {
   "cell_type": "code",
   "execution_count": 6,
   "outputs": [
    {
     "name": "stderr",
     "output_type": "stream",
     "text": [
      "[*********************100%%**********************]  1 of 1 completed\n",
      "C:\\github\\finlab\\fin_data_factory.py:42: FutureWarning:\n",
      "\n",
      "Series.__getitem__ treating keys as positions is deprecated. In a future version, integer keys will always be treated as labels (consistent with DataFrame behavior). To access a value by position, use `ser.iloc[pos]`\n",
      "\n"
     ]
    },
    {
     "name": "stdout",
     "output_type": "stream",
     "text": [
      "Available expiration dates:\n",
      "       index      contractSymbol             lastTradeDate  strike  lastPrice  \\\n",
      "43      43.0  SPY240401C00518000 2024-03-28 20:13:40+00:00   518.0       5.46   \n",
      "44      44.0  SPY240401C00519000 2024-03-28 20:14:06+00:00   519.0       4.54   \n",
      "45      45.0  SPY240401C00520000 2024-03-28 20:14:41+00:00   520.0       3.59   \n",
      "46      46.0  SPY240401C00521000 2024-03-28 20:13:48+00:00   521.0       2.77   \n",
      "47      47.0  SPY240401C00522000 2024-03-28 20:14:53+00:00   522.0       1.97   \n",
      "...      ...                 ...                       ...     ...        ...   \n",
      "6010  6010.0  SPY241231P00467000 2024-03-26 19:24:04+00:00   467.0       8.81   \n",
      "6186  6186.0  SPY250321P00210000 2024-03-25 19:43:48+00:00   210.0       0.71   \n",
      "6225  6225.0  SPY250321P00405000 2024-03-28 19:43:38+00:00   405.0       5.25   \n",
      "6238  6238.0  SPY250321P00470000 2024-03-28 19:59:41+00:00   470.0      11.66   \n",
      "6329  6329.0  SPY250620P00340000 2024-03-26 15:16:48+00:00   340.0       3.57   \n",
      "\n",
      "        bid    ask  change  percentChange   volume  ...  contractSize  \\\n",
      "43     5.34   5.48   -0.29      -5.043477   1012.0  ...       REGULAR   \n",
      "44     4.41   4.53   -0.36      -7.346941   1152.0  ...       REGULAR   \n",
      "45     3.53   3.63   -0.45     -11.138615   6017.0  ...       REGULAR   \n",
      "46     2.71   2.78   -0.47     -14.506173   7122.0  ...       REGULAR   \n",
      "47     1.97   2.03   -0.57     -22.440943  14773.0  ...       REGULAR   \n",
      "...     ...    ...     ...            ...      ...  ...           ...   \n",
      "6010   8.47   8.63    0.00       0.000000   4751.0  ...       REGULAR   \n",
      "6186   0.64   0.68    0.00       0.000000   3997.0  ...       REGULAR   \n",
      "6225   5.23   5.33    0.02       0.382409  12525.0  ...       REGULAR   \n",
      "6238  11.62  11.78   -0.53      -4.347824   1266.0  ...       REGULAR   \n",
      "6329   3.43   3.61    0.00       0.000000   3520.0  ...       REGULAR   \n",
      "\n",
      "      currency expirationDate optionType       P           S      K         T  \\\n",
      "43         USD     2024-04-01       Call   5.410  523.070007  518.0  0.002740   \n",
      "44         USD     2024-04-01       Call   4.470  523.070007  519.0  0.002740   \n",
      "45         USD     2024-04-01       Call   3.580  523.070007  520.0  0.002740   \n",
      "46         USD     2024-04-01       Call   2.745  523.070007  521.0  0.002740   \n",
      "47         USD     2024-04-01       Call   2.000  523.070007  522.0  0.002740   \n",
      "...        ...            ...        ...     ...         ...    ...       ...   \n",
      "6010       USD     2024-12-31        Put   8.550  523.070007  467.0  0.753425   \n",
      "6186       USD     2025-03-21        Put   0.660  523.070007  210.0  0.972603   \n",
      "6225       USD     2025-03-21        Put   5.280  523.070007  405.0  0.972603   \n",
      "6238       USD     2025-03-21        Put  11.700  523.070007  470.0  0.972603   \n",
      "6329       USD     2025-06-20        Put   3.520  523.070007  340.0  1.221918   \n",
      "\n",
      "         R    OT  \n",
      "43    0.04  Call  \n",
      "44    0.04  Call  \n",
      "45    0.04  Call  \n",
      "46    0.04  Call  \n",
      "47    0.04  Call  \n",
      "...    ...   ...  \n",
      "6010  0.04   Put  \n",
      "6186  0.04   Put  \n",
      "6225  0.04   Put  \n",
      "6238  0.04   Put  \n",
      "6329  0.04   Put  \n",
      "\n",
      "[449 rows x 23 columns]\n",
      "\n",
      "****************************************************************************************************\n"
     ]
    },
    {
     "name": "stderr",
     "output_type": "stream",
     "text": [
      "C:\\github\\finlab\\fin_data_factory.py:42: FutureWarning:\n",
      "\n",
      "Series.__getitem__ treating keys as positions is deprecated. In a future version, integer keys will always be treated as labels (consistent with DataFrame behavior). To access a value by position, use `ser.iloc[pos]`\n",
      "\n"
     ]
    },
    {
     "name": "stdout",
     "output_type": "stream",
     "text": [
      "\n",
      "Calls:\n",
      "    index      contractSymbol             lastTradeDate  strike  lastPrice  \\\n",
      "43   43.0  SPY240401C00518000 2024-03-28 20:13:40+00:00   518.0       5.46   \n",
      "44   44.0  SPY240401C00519000 2024-03-28 20:14:06+00:00   519.0       4.54   \n",
      "45   45.0  SPY240401C00520000 2024-03-28 20:14:41+00:00   520.0       3.59   \n",
      "46   46.0  SPY240401C00521000 2024-03-28 20:13:48+00:00   521.0       2.77   \n",
      "47   47.0  SPY240401C00522000 2024-03-28 20:14:53+00:00   522.0       1.97   \n",
      "\n",
      "     bid   ask  change  percentChange   volume  ...  contractSize  currency  \\\n",
      "43  5.34  5.48   -0.29      -5.043477   1012.0  ...       REGULAR       USD   \n",
      "44  4.41  4.53   -0.36      -7.346941   1152.0  ...       REGULAR       USD   \n",
      "45  3.53  3.63   -0.45     -11.138615   6017.0  ...       REGULAR       USD   \n",
      "46  2.71  2.78   -0.47     -14.506173   7122.0  ...       REGULAR       USD   \n",
      "47  1.97  2.03   -0.57     -22.440943  14773.0  ...       REGULAR       USD   \n",
      "\n",
      "   expirationDate optionType      P           S      K        T     R    OT  \n",
      "43     2024-04-01       Call  5.410  523.070007  518.0  0.00274  0.04  Call  \n",
      "44     2024-04-01       Call  4.470  523.070007  519.0  0.00274  0.04  Call  \n",
      "45     2024-04-01       Call  3.580  523.070007  520.0  0.00274  0.04  Call  \n",
      "46     2024-04-01       Call  2.745  523.070007  521.0  0.00274  0.04  Call  \n",
      "47     2024-04-01       Call  2.000  523.070007  522.0  0.00274  0.04  Call  \n",
      "\n",
      "[5 rows x 23 columns]\n",
      "\n",
      "Puts:\n"
     ]
    },
    {
     "data": {
      "text/plain": "       index      contractSymbol             lastTradeDate  strike  lastPrice  \\\n43      43.0  SPY240401C00518000 2024-03-28 20:13:40+00:00   518.0       5.46   \n44      44.0  SPY240401C00519000 2024-03-28 20:14:06+00:00   519.0       4.54   \n45      45.0  SPY240401C00520000 2024-03-28 20:14:41+00:00   520.0       3.59   \n46      46.0  SPY240401C00521000 2024-03-28 20:13:48+00:00   521.0       2.77   \n47      47.0  SPY240401C00522000 2024-03-28 20:14:53+00:00   522.0       1.97   \n...      ...                 ...                       ...     ...        ...   \n6010  6010.0  SPY241231P00467000 2024-03-26 19:24:04+00:00   467.0       8.81   \n6186  6186.0  SPY250321P00210000 2024-03-25 19:43:48+00:00   210.0       0.71   \n6225  6225.0  SPY250321P00405000 2024-03-28 19:43:38+00:00   405.0       5.25   \n6238  6238.0  SPY250321P00470000 2024-03-28 19:59:41+00:00   470.0      11.66   \n6329  6329.0  SPY250620P00340000 2024-03-26 15:16:48+00:00   340.0       3.57   \n\n        bid    ask  change  percentChange   volume  ...  contractSize  \\\n43     5.34   5.48   -0.29      -5.043477   1012.0  ...       REGULAR   \n44     4.41   4.53   -0.36      -7.346941   1152.0  ...       REGULAR   \n45     3.53   3.63   -0.45     -11.138615   6017.0  ...       REGULAR   \n46     2.71   2.78   -0.47     -14.506173   7122.0  ...       REGULAR   \n47     1.97   2.03   -0.57     -22.440943  14773.0  ...       REGULAR   \n...     ...    ...     ...            ...      ...  ...           ...   \n6010   8.47   8.63    0.00       0.000000   4751.0  ...       REGULAR   \n6186   0.64   0.68    0.00       0.000000   3997.0  ...       REGULAR   \n6225   5.23   5.33    0.02       0.382409  12525.0  ...       REGULAR   \n6238  11.62  11.78   -0.53      -4.347824   1266.0  ...       REGULAR   \n6329   3.43   3.61    0.00       0.000000   3520.0  ...       REGULAR   \n\n      currency expirationDate optionType       P           S      K         T  \\\n43         USD     2024-04-01       Call   5.410  523.070007  518.0  0.002740   \n44         USD     2024-04-01       Call   4.470  523.070007  519.0  0.002740   \n45         USD     2024-04-01       Call   3.580  523.070007  520.0  0.002740   \n46         USD     2024-04-01       Call   2.745  523.070007  521.0  0.002740   \n47         USD     2024-04-01       Call   2.000  523.070007  522.0  0.002740   \n...        ...            ...        ...     ...         ...    ...       ...   \n6010       USD     2024-12-31        Put   8.550  523.070007  467.0  0.753425   \n6186       USD     2025-03-21        Put   0.660  523.070007  210.0  0.972603   \n6225       USD     2025-03-21        Put   5.280  523.070007  405.0  0.972603   \n6238       USD     2025-03-21        Put  11.700  523.070007  470.0  0.972603   \n6329       USD     2025-06-20        Put   3.520  523.070007  340.0  1.221918   \n\n         R    OT  \n43    0.04  Call  \n44    0.04  Call  \n45    0.04  Call  \n46    0.04  Call  \n47    0.04  Call  \n...    ...   ...  \n6010  0.04   Put  \n6186  0.04   Put  \n6225  0.04   Put  \n6238  0.04   Put  \n6329  0.04   Put  \n\n[449 rows x 23 columns]",
      "text/html": "<div>\n<style scoped>\n    .dataframe tbody tr th:only-of-type {\n        vertical-align: middle;\n    }\n\n    .dataframe tbody tr th {\n        vertical-align: top;\n    }\n\n    .dataframe thead th {\n        text-align: right;\n    }\n</style>\n<table border=\"1\" class=\"dataframe\">\n  <thead>\n    <tr style=\"text-align: right;\">\n      <th></th>\n      <th>index</th>\n      <th>contractSymbol</th>\n      <th>lastTradeDate</th>\n      <th>strike</th>\n      <th>lastPrice</th>\n      <th>bid</th>\n      <th>ask</th>\n      <th>change</th>\n      <th>percentChange</th>\n      <th>volume</th>\n      <th>...</th>\n      <th>contractSize</th>\n      <th>currency</th>\n      <th>expirationDate</th>\n      <th>optionType</th>\n      <th>P</th>\n      <th>S</th>\n      <th>K</th>\n      <th>T</th>\n      <th>R</th>\n      <th>OT</th>\n    </tr>\n  </thead>\n  <tbody>\n    <tr>\n      <th>43</th>\n      <td>43.0</td>\n      <td>SPY240401C00518000</td>\n      <td>2024-03-28 20:13:40+00:00</td>\n      <td>518.0</td>\n      <td>5.46</td>\n      <td>5.34</td>\n      <td>5.48</td>\n      <td>-0.29</td>\n      <td>-5.043477</td>\n      <td>1012.0</td>\n      <td>...</td>\n      <td>REGULAR</td>\n      <td>USD</td>\n      <td>2024-04-01</td>\n      <td>Call</td>\n      <td>5.410</td>\n      <td>523.070007</td>\n      <td>518.0</td>\n      <td>0.002740</td>\n      <td>0.04</td>\n      <td>Call</td>\n    </tr>\n    <tr>\n      <th>44</th>\n      <td>44.0</td>\n      <td>SPY240401C00519000</td>\n      <td>2024-03-28 20:14:06+00:00</td>\n      <td>519.0</td>\n      <td>4.54</td>\n      <td>4.41</td>\n      <td>4.53</td>\n      <td>-0.36</td>\n      <td>-7.346941</td>\n      <td>1152.0</td>\n      <td>...</td>\n      <td>REGULAR</td>\n      <td>USD</td>\n      <td>2024-04-01</td>\n      <td>Call</td>\n      <td>4.470</td>\n      <td>523.070007</td>\n      <td>519.0</td>\n      <td>0.002740</td>\n      <td>0.04</td>\n      <td>Call</td>\n    </tr>\n    <tr>\n      <th>45</th>\n      <td>45.0</td>\n      <td>SPY240401C00520000</td>\n      <td>2024-03-28 20:14:41+00:00</td>\n      <td>520.0</td>\n      <td>3.59</td>\n      <td>3.53</td>\n      <td>3.63</td>\n      <td>-0.45</td>\n      <td>-11.138615</td>\n      <td>6017.0</td>\n      <td>...</td>\n      <td>REGULAR</td>\n      <td>USD</td>\n      <td>2024-04-01</td>\n      <td>Call</td>\n      <td>3.580</td>\n      <td>523.070007</td>\n      <td>520.0</td>\n      <td>0.002740</td>\n      <td>0.04</td>\n      <td>Call</td>\n    </tr>\n    <tr>\n      <th>46</th>\n      <td>46.0</td>\n      <td>SPY240401C00521000</td>\n      <td>2024-03-28 20:13:48+00:00</td>\n      <td>521.0</td>\n      <td>2.77</td>\n      <td>2.71</td>\n      <td>2.78</td>\n      <td>-0.47</td>\n      <td>-14.506173</td>\n      <td>7122.0</td>\n      <td>...</td>\n      <td>REGULAR</td>\n      <td>USD</td>\n      <td>2024-04-01</td>\n      <td>Call</td>\n      <td>2.745</td>\n      <td>523.070007</td>\n      <td>521.0</td>\n      <td>0.002740</td>\n      <td>0.04</td>\n      <td>Call</td>\n    </tr>\n    <tr>\n      <th>47</th>\n      <td>47.0</td>\n      <td>SPY240401C00522000</td>\n      <td>2024-03-28 20:14:53+00:00</td>\n      <td>522.0</td>\n      <td>1.97</td>\n      <td>1.97</td>\n      <td>2.03</td>\n      <td>-0.57</td>\n      <td>-22.440943</td>\n      <td>14773.0</td>\n      <td>...</td>\n      <td>REGULAR</td>\n      <td>USD</td>\n      <td>2024-04-01</td>\n      <td>Call</td>\n      <td>2.000</td>\n      <td>523.070007</td>\n      <td>522.0</td>\n      <td>0.002740</td>\n      <td>0.04</td>\n      <td>Call</td>\n    </tr>\n    <tr>\n      <th>...</th>\n      <td>...</td>\n      <td>...</td>\n      <td>...</td>\n      <td>...</td>\n      <td>...</td>\n      <td>...</td>\n      <td>...</td>\n      <td>...</td>\n      <td>...</td>\n      <td>...</td>\n      <td>...</td>\n      <td>...</td>\n      <td>...</td>\n      <td>...</td>\n      <td>...</td>\n      <td>...</td>\n      <td>...</td>\n      <td>...</td>\n      <td>...</td>\n      <td>...</td>\n      <td>...</td>\n    </tr>\n    <tr>\n      <th>6010</th>\n      <td>6010.0</td>\n      <td>SPY241231P00467000</td>\n      <td>2024-03-26 19:24:04+00:00</td>\n      <td>467.0</td>\n      <td>8.81</td>\n      <td>8.47</td>\n      <td>8.63</td>\n      <td>0.00</td>\n      <td>0.000000</td>\n      <td>4751.0</td>\n      <td>...</td>\n      <td>REGULAR</td>\n      <td>USD</td>\n      <td>2024-12-31</td>\n      <td>Put</td>\n      <td>8.550</td>\n      <td>523.070007</td>\n      <td>467.0</td>\n      <td>0.753425</td>\n      <td>0.04</td>\n      <td>Put</td>\n    </tr>\n    <tr>\n      <th>6186</th>\n      <td>6186.0</td>\n      <td>SPY250321P00210000</td>\n      <td>2024-03-25 19:43:48+00:00</td>\n      <td>210.0</td>\n      <td>0.71</td>\n      <td>0.64</td>\n      <td>0.68</td>\n      <td>0.00</td>\n      <td>0.000000</td>\n      <td>3997.0</td>\n      <td>...</td>\n      <td>REGULAR</td>\n      <td>USD</td>\n      <td>2025-03-21</td>\n      <td>Put</td>\n      <td>0.660</td>\n      <td>523.070007</td>\n      <td>210.0</td>\n      <td>0.972603</td>\n      <td>0.04</td>\n      <td>Put</td>\n    </tr>\n    <tr>\n      <th>6225</th>\n      <td>6225.0</td>\n      <td>SPY250321P00405000</td>\n      <td>2024-03-28 19:43:38+00:00</td>\n      <td>405.0</td>\n      <td>5.25</td>\n      <td>5.23</td>\n      <td>5.33</td>\n      <td>0.02</td>\n      <td>0.382409</td>\n      <td>12525.0</td>\n      <td>...</td>\n      <td>REGULAR</td>\n      <td>USD</td>\n      <td>2025-03-21</td>\n      <td>Put</td>\n      <td>5.280</td>\n      <td>523.070007</td>\n      <td>405.0</td>\n      <td>0.972603</td>\n      <td>0.04</td>\n      <td>Put</td>\n    </tr>\n    <tr>\n      <th>6238</th>\n      <td>6238.0</td>\n      <td>SPY250321P00470000</td>\n      <td>2024-03-28 19:59:41+00:00</td>\n      <td>470.0</td>\n      <td>11.66</td>\n      <td>11.62</td>\n      <td>11.78</td>\n      <td>-0.53</td>\n      <td>-4.347824</td>\n      <td>1266.0</td>\n      <td>...</td>\n      <td>REGULAR</td>\n      <td>USD</td>\n      <td>2025-03-21</td>\n      <td>Put</td>\n      <td>11.700</td>\n      <td>523.070007</td>\n      <td>470.0</td>\n      <td>0.972603</td>\n      <td>0.04</td>\n      <td>Put</td>\n    </tr>\n    <tr>\n      <th>6329</th>\n      <td>6329.0</td>\n      <td>SPY250620P00340000</td>\n      <td>2024-03-26 15:16:48+00:00</td>\n      <td>340.0</td>\n      <td>3.57</td>\n      <td>3.43</td>\n      <td>3.61</td>\n      <td>0.00</td>\n      <td>0.000000</td>\n      <td>3520.0</td>\n      <td>...</td>\n      <td>REGULAR</td>\n      <td>USD</td>\n      <td>2025-06-20</td>\n      <td>Put</td>\n      <td>3.520</td>\n      <td>523.070007</td>\n      <td>340.0</td>\n      <td>1.221918</td>\n      <td>0.04</td>\n      <td>Put</td>\n    </tr>\n  </tbody>\n</table>\n<p>449 rows × 23 columns</p>\n</div>"
     },
     "metadata": {},
     "output_type": "display_data"
    }
   ],
   "source": [
    "ticker_symbol = 'SPY'\n",
    "start_date = '2023-01-01'\n",
    "end_date = '2023-03-31'\n",
    "stock_data = fdf.get_stock_data(ticker_symbol, start_date, end_date)\n",
    "# Fetch available expiration dates\n",
    "expiration_dates = fdf.get_options_chain(ticker_symbol)\n",
    "print(\"Available expiration dates:\")\n",
    "print(expiration_dates)\n",
    "\n",
    "print(\"\\n****************************************************************************************************\")\n",
    "\n",
    "# If you want to fetch the options chain for a specific expiration date, use:\n",
    "# Note: Replace '2023-04-21' with a valid expiration date from the list you obtained above\n",
    "chain = fdf.get_options_chain(ticker_symbol)\n",
    "print(\"\\nCalls:\")\n",
    "print(chain.head())  # Display the first few rows of the calls DataFrame\n",
    "\n",
    "print(\"\\nPuts:\")\n",
    "display(chain)  # Display the first few rows of the puts DataFrame"
   ],
   "metadata": {
    "collapsed": false,
    "pycharm": {
     "name": "#%%\n"
    }
   }
  },
  {
   "cell_type": "code",
   "execution_count": 7,
   "outputs": [
    {
     "name": "stdout",
     "output_type": "stream",
     "text": [
      "43      0.164763\n",
      "44      0.151223\n",
      "45      0.141053\n",
      "46      0.131933\n",
      "47      0.124911\n",
      "          ...   \n",
      "6010    0.190475\n",
      "6186    0.437267\n",
      "6225    0.238107\n",
      "6238    0.192523\n",
      "6329    0.283989\n",
      "Name: impliedVolatility, Length: 449, dtype: float64\n"
     ]
    }
   ],
   "source": [
    "print(chain['impliedVolatility'])"
   ],
   "metadata": {
    "collapsed": false,
    "pycharm": {
     "name": "#%%\n"
    }
   }
  },
  {
   "cell_type": "code",
   "execution_count": 8,
   "outputs": [],
   "source": [
    "fdt.plot_vol_surface(chain.where(chain['OT'] == 'Put'),'chainP')"
   ],
   "metadata": {
    "collapsed": false,
    "pycharm": {
     "name": "#%%\n"
    }
   }
  },
  {
   "cell_type": "code",
   "execution_count": 9,
   "outputs": [],
   "source": [
    "fdt.plot_vol_surface(chain.where(chain['OT'] == 'Call'),'chainC')"
   ],
   "metadata": {
    "collapsed": false,
    "pycharm": {
     "name": "#%%\n"
    }
   }
  }
 ],
 "metadata": {
  "kernelspec": {
   "display_name": "Python 3",
   "language": "python",
   "name": "python3"
  },
  "language_info": {
   "codemirror_mode": {
    "name": "ipython",
    "version": 2
   },
   "file_extension": ".py",
   "mimetype": "text/x-python",
   "name": "python",
   "nbconvert_exporter": "python",
   "pygments_lexer": "ipython2",
   "version": "2.7.6"
  }
 },
 "nbformat": 4,
 "nbformat_minor": 0
}