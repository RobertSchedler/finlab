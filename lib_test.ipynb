{
 "cells": [
  {
   "cell_type": "code",
   "execution_count": 10,
   "metadata": {
    "collapsed": true,
    "pycharm": {
     "name": "#%%\n"
    }
   },
   "outputs": [],
   "source": [
    "import black_scholes as bs\n",
    "\n",
    "S = 100  # Current stock price\n",
    "K = 100  # Strike price\n",
    "T = 1    # Time to expiration (1 year)\n",
    "r = 0.05 # Risk-free interest rate (5%)\n",
    "sigma = 0.2 # Volatility (20%)"
   ]
  },
  {
   "cell_type": "code",
   "execution_count": 11,
   "outputs": [
    {
     "name": "stdout",
     "output_type": "stream",
     "text": [
      "10.450583572185565\n"
     ]
    }
   ],
   "source": [
    "call_price = bs.black_scholes_call(S, K, T, r, sigma)\n",
    "print(call_price)"
   ],
   "metadata": {
    "collapsed": false,
    "pycharm": {
     "name": "#%%\n"
    }
   }
  },
  {
   "cell_type": "code",
   "execution_count": 12,
   "outputs": [
    {
     "name": "stdout",
     "output_type": "stream",
     "text": [
      "5.573526022256971\n"
     ]
    }
   ],
   "source": [
    "put_price = bs.black_scholes_put(S, K, T, r, sigma)\n",
    "print(put_price)"
   ],
   "metadata": {
    "collapsed": false,
    "pycharm": {
     "name": "#%%\n"
    }
   }
  }
 ],
 "metadata": {
  "kernelspec": {
   "display_name": "Python 3",
   "language": "python",
   "name": "python3"
  },
  "language_info": {
   "codemirror_mode": {
    "name": "ipython",
    "version": 2
   },
   "file_extension": ".py",
   "mimetype": "text/x-python",
   "name": "python",
   "nbconvert_exporter": "python",
   "pygments_lexer": "ipython2",
   "version": "2.7.6"
  }
 },
 "nbformat": 4,
 "nbformat_minor": 0
}