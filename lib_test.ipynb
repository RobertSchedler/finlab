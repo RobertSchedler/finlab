{
 "cells": [
  {
   "cell_type": "code",
   "execution_count": null,
   "outputs": [],
   "source": [
    "import black_scholes as bs\n",
    "import fin_data_factory as fdf\n",
    "import fin_data_transforms as fdt\n",
    "import importlib"
   ],
   "metadata": {
    "collapsed": false,
    "pycharm": {
     "name": "#%%\n"
    }
   }
  },
  {
   "cell_type": "code",
   "execution_count": null,
   "outputs": [],
   "source": [
    "importlib.reload(bs)\n",
    "\n",
    "S = 100  # Current stock price\n",
    "K = 100  # Strike price\n",
    "T = 1    # Time to expiration (1 year)\n",
    "r = 0.05 # Risk-free interest rate (5%)\n",
    "sigma = 0.2 # Volatility (20%)\n",
    "\n",
    "\n",
    "call_price = bs.black_scholes_call(S, K, T, r, sigma)\n",
    "print(call_price)"
   ],
   "metadata": {
    "collapsed": false,
    "pycharm": {
     "name": "#%%\n"
    }
   }
  },
  {
   "cell_type": "code",
   "execution_count": null,
   "outputs": [],
   "source": [
    "importlib.reload(bs)\n",
    "\n",
    "S = 100  # Current stock price\n",
    "K = 100  # Strike price\n",
    "T = 1    # Time to expiration (1 year)\n",
    "r = 0.05 # Risk-free interest rate (5%)\n",
    "sigma = 0.2 # Volatility (20%)\n",
    "\n",
    "put_price = bs.black_scholes_put(S, K, T, r, sigma)\n",
    "print(put_price)"
   ],
   "metadata": {
    "collapsed": false,
    "pycharm": {
     "name": "#%%\n"
    }
   }
  },
  {
   "cell_type": "code",
   "execution_count": null,
   "outputs": [],
   "source": [
    "importlib.reload(fdf)\n",
    "\n",
    "ticker_symbol = 'AAPL'\n",
    "start_date = '2023-01-01'\n",
    "end_date = '2023-03-31'\n",
    "stock_data = fdf.get_stock_data(ticker_symbol, start_date, end_date)\n",
    "display(stock_data)"
   ],
   "metadata": {
    "collapsed": false,
    "pycharm": {
     "name": "#%%\n"
    }
   }
  },
  {
   "cell_type": "code",
   "execution_count": null,
   "outputs": [],
   "source": [
    "importlib.reload(fdf)\n",
    "\n",
    "ticker_symbol = 'SPY'\n",
    "start_date = '2023-01-01'\n",
    "end_date = '2023-03-31'\n",
    "stock_data = fdf.get_stock_data(ticker_symbol, start_date, end_date)\n",
    "# Fetch available expiration dates\n",
    "expiration_dates = fdf.get_options_chain(ticker_symbol)\n",
    "chain = fdf.get_options_chain(ticker_symbol)\n",
    "display(chain)"
   ],
   "metadata": {
    "collapsed": false,
    "pycharm": {
     "name": "#%%\n"
    }
   }
  },
  {
   "cell_type": "code",
   "execution_count": null,
   "outputs": [],
   "source": [
    "importlib.reload(fdt)\n",
    "fdt.plot_vol_surface(chain.where(chain['OT'] == 'Put'),'chainP')"
   ],
   "metadata": {
    "collapsed": false,
    "pycharm": {
     "name": "#%%\n"
    }
   }
  },
  {
   "cell_type": "code",
   "execution_count": null,
   "outputs": [],
   "source": [
    "importlib.reload(fdt)\n",
    "fdt.plot_vol_surface(chain.where(chain['OT'] == 'Call'),'chainC')"
   ],
   "metadata": {
    "collapsed": false,
    "pycharm": {
     "name": "#%%\n"
    }
   }
  }
 ],
 "metadata": {
  "kernelspec": {
   "display_name": "Python 3",
   "language": "python",
   "name": "python3"
  },
  "language_info": {
   "codemirror_mode": {
    "name": "ipython",
    "version": 2
   },
   "file_extension": ".py",
   "mimetype": "text/x-python",
   "name": "python",
   "nbconvert_exporter": "python",
   "pygments_lexer": "ipython2",
   "version": "2.7.6"
  }
 },
 "nbformat": 4,
 "nbformat_minor": 0
}