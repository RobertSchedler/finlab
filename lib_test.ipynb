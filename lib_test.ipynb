{
 "cells": [
  {
   "cell_type": "code",
   "execution_count": null,
   "metadata": {
    "collapsed": true,
    "pycharm": {
     "name": "#%%\n"
    }
   },
   "outputs": [],
   "source": [
    "import black_scholes as bs\n",
    "import fin_data_factory as fdf\n",
    "import fin_data_transforms as fdt"
   ]
  },
  {
   "cell_type": "code",
   "execution_count": null,
   "outputs": [],
   "source": [
    "S = 100  # Current stock price\n",
    "K = 100  # Strike price\n",
    "T = 1    # Time to expiration (1 year)\n",
    "r = 0.05 # Risk-free interest rate (5%)\n",
    "sigma = 0.2 # Volatility (20%)"
   ],
   "metadata": {
    "collapsed": false,
    "pycharm": {
     "name": "#%%\n"
    }
   }
  },
  {
   "cell_type": "code",
   "execution_count": null,
   "outputs": [],
   "source": [
    "call_price = bs.black_scholes_call(S, K, T, r, sigma)\n",
    "print(call_price)"
   ],
   "metadata": {
    "collapsed": false,
    "pycharm": {
     "name": "#%%\n"
    }
   }
  },
  {
   "cell_type": "code",
   "execution_count": null,
   "outputs": [],
   "source": [
    "put_price = bs.black_scholes_put(S, K, T, r, sigma)\n",
    "print(put_price)"
   ],
   "metadata": {
    "collapsed": false,
    "pycharm": {
     "name": "#%%\n"
    }
   }
  },
  {
   "cell_type": "code",
   "execution_count": null,
   "outputs": [],
   "source": [
    "ticker_symbol = 'AAPL'\n",
    "start_date = '2023-01-01'\n",
    "end_date = '2023-03-31'\n",
    "stock_data = fdf.get_stock_data(ticker_symbol, start_date, end_date)\n",
    "\n",
    "print(stock_data)"
   ],
   "metadata": {
    "collapsed": false,
    "pycharm": {
     "name": "#%%\n",
     "is_executing": true
    }
   }
  },
  {
   "cell_type": "code",
   "execution_count": 13,
   "outputs": [
    {
     "name": "stderr",
     "output_type": "stream",
     "text": [
      "[*********************100%%**********************]  1 of 1 completed\n"
     ]
    },
    {
     "name": "stdout",
     "output_type": "stream",
     "text": [
      "Available expiration dates:\n",
      "('2024-04-05', '2024-04-12', '2024-04-19', '2024-04-26', '2024-05-03', '2024-05-17', '2024-06-21', '2024-07-19', '2024-08-16', '2024-09-20', '2024-10-18', '2024-11-15', '2024-12-20', '2025-01-17', '2025-03-21', '2025-06-20', '2025-09-19', '2025-12-19', '2026-01-16', '2026-06-18', '2026-12-18')\n",
      "\n",
      "****************************************************************************************************\n",
      "\n",
      "Calls:\n",
      "        contractSymbol             lastTradeDate  strike  lastPrice    bid  \\\n",
      "0  AAPL240405C00100000 2024-03-26 13:57:10+00:00   100.0      70.85  69.90   \n",
      "1  AAPL240405C00105000 2024-03-27 13:37:37+00:00   105.0      65.90  65.90   \n",
      "2  AAPL240405C00120000 2024-03-08 15:11:44+00:00   120.0      51.72  49.85   \n",
      "3  AAPL240405C00125000 2024-03-04 19:59:06+00:00   125.0      47.01  46.00   \n",
      "4  AAPL240405C00130000 2024-03-13 19:42:28+00:00   130.0      42.00  40.45   \n",
      "\n",
      "     ask    change  percentChange  volume  openInterest  impliedVolatility  \\\n",
      "0  73.15  0.000000       0.000000       1             2           1.421878   \n",
      "1  67.65  0.000000       0.000000       2             1           1.671877   \n",
      "2  52.70  0.000000       0.000000       1             1           1.685548   \n",
      "3  47.70 -4.040001      -7.913812       2             1           1.188481   \n",
      "4  42.70  0.000000       0.000000     120           120           0.853517   \n",
      "\n",
      "   inTheMoney contractSize currency  \n",
      "0        True      REGULAR      USD  \n",
      "1        True      REGULAR      USD  \n",
      "2        True      REGULAR      USD  \n",
      "3        True      REGULAR      USD  \n",
      "4        True      REGULAR      USD  \n",
      "\n",
      "Puts:\n",
      "        contractSymbol             lastTradeDate  strike  lastPrice  bid  \\\n",
      "0  AAPL240405P00100000 2024-03-26 15:27:05+00:00   100.0       0.01  0.0   \n",
      "1  AAPL240405P00105000 2024-03-28 16:50:01+00:00   105.0       0.01  0.0   \n",
      "2  AAPL240405P00110000 2024-03-22 14:18:42+00:00   110.0       0.01  0.0   \n",
      "3  AAPL240405P00115000 2024-03-26 14:08:40+00:00   115.0       0.01  0.0   \n",
      "4  AAPL240405P00120000 2024-03-22 14:11:31+00:00   120.0       0.02  0.0   \n",
      "\n",
      "    ask  change  percentChange  volume  openInterest  impliedVolatility  \\\n",
      "0  0.01    0.00            0.0    11.0            44           1.156254   \n",
      "1  0.01   -0.01          -50.0     1.0           109           1.062505   \n",
      "2  0.01    0.00            0.0   100.0           312           0.968750   \n",
      "3  0.02    0.00            0.0    30.0           263           0.921876   \n",
      "4  0.02    0.00            0.0    20.0            45           0.828127   \n",
      "\n",
      "   inTheMoney contractSize currency  \n",
      "0       False      REGULAR      USD  \n",
      "1       False      REGULAR      USD  \n",
      "2       False      REGULAR      USD  \n",
      "3       False      REGULAR      USD  \n",
      "4       False      REGULAR      USD  \n"
     ]
    }
   ],
   "source": [
    "ticker_symbol = 'AAPL'\n",
    "start_date = '2023-01-01'\n",
    "end_date = '2023-03-31'\n",
    "stock_data = fdf.get_stock_data(ticker_symbol, start_date, end_date)\n",
    "# Fetch available expiration dates\n",
    "expiration_dates = fdf.get_options_chain(ticker_symbol)\n",
    "print(\"Available expiration dates:\")\n",
    "print(expiration_dates)\n",
    "\n",
    "print(\"\\n****************************************************************************************************\")\n",
    "\n",
    "# If you want to fetch the options chain for a specific expiration date, use:\n",
    "# Note: Replace '2023-04-21' with a valid expiration date from the list you obtained above\n",
    "expiration_date = '2024-04-05'\n",
    "calls, puts = fdf.get_options_chain(ticker_symbol, expiration_date)\n",
    "print(\"\\nCalls:\")\n",
    "print(calls.head())  # Display the first few rows of the calls DataFrame\n",
    "\n",
    "print(\"\\nPuts:\")\n",
    "print(puts.head())  # Display the first few rows of the puts DataFrame"
   ],
   "metadata": {
    "collapsed": false,
    "pycharm": {
     "name": "#%%\n"
    }
   }
  },
  {
   "cell_type": "code",
   "execution_count": 10,
   "outputs": [
    {
     "name": "stderr",
     "output_type": "stream",
     "text": [
      "C:\\github\\finlab\\fin_data_transforms.py:30: FutureWarning: Series.__getitem__ treating keys as positions is deprecated. In a future version, integer keys will always be treated as labels (consistent with DataFrame behavior). To access a value by position, use `ser.iloc[pos]`\n",
      "  S = yf.Ticker(ticker_symbol).history(period=\"1d\")['Close'][-1]  # Current stock price\n"
     ]
    },
    {
     "ename": "AttributeError",
     "evalue": "'tuple' object has no attribute 'iterrows'",
     "output_type": "error",
     "traceback": [
      "\u001B[1;31m---------------------------------------------------------------------------\u001B[0m",
      "\u001B[1;31mAttributeError\u001B[0m                            Traceback (most recent call last)",
      "Cell \u001B[1;32mIn[10], line 1\u001B[0m\n\u001B[1;32m----> 1\u001B[0m \u001B[43mfdt\u001B[49m\u001B[38;5;241;43m.\u001B[39;49m\u001B[43mplot_vol_surface\u001B[49m\u001B[43m(\u001B[49m\u001B[38;5;124;43m'\u001B[39;49m\u001B[38;5;124;43mAAPL\u001B[39;49m\u001B[38;5;124;43m'\u001B[39;49m\u001B[43m)\u001B[49m\n",
      "File \u001B[1;32mC:\\github\\finlab\\fin_data_transforms.py:37\u001B[0m, in \u001B[0;36mplot_vol_surface\u001B[1;34m(ticker_symbol)\u001B[0m\n\u001B[0;32m     34\u001B[0m maturities \u001B[38;5;241m=\u001B[39m []\n\u001B[0;32m     35\u001B[0m vols \u001B[38;5;241m=\u001B[39m []\n\u001B[1;32m---> 37\u001B[0m \u001B[38;5;28;01mfor\u001B[39;00m _, row \u001B[38;5;129;01min\u001B[39;00m \u001B[43mcalls\u001B[49m\u001B[38;5;241;43m.\u001B[39;49m\u001B[43miterrows\u001B[49m():\n\u001B[0;32m     38\u001B[0m     K \u001B[38;5;241m=\u001B[39m row[\u001B[38;5;124m'\u001B[39m\u001B[38;5;124mstrike\u001B[39m\u001B[38;5;124m'\u001B[39m]\n\u001B[0;32m     39\u001B[0m     T \u001B[38;5;241m=\u001B[39m (pd\u001B[38;5;241m.\u001B[39mto_datetime(row[\u001B[38;5;124m'\u001B[39m\u001B[38;5;124mExpirationDate\u001B[39m\u001B[38;5;124m'\u001B[39m]) \u001B[38;5;241m-\u001B[39m pd\u001B[38;5;241m.\u001B[39mTimestamp\u001B[38;5;241m.\u001B[39mnow())\u001B[38;5;241m.\u001B[39mdays \u001B[38;5;241m/\u001B[39m \u001B[38;5;241m365\u001B[39m\n",
      "\u001B[1;31mAttributeError\u001B[0m: 'tuple' object has no attribute 'iterrows'"
     ]
    }
   ],
   "source": [
    "fdt.plot_vol_surface('AAPL')"
   ],
   "metadata": {
    "collapsed": false,
    "pycharm": {
     "name": "#%%\n"
    }
   }
  }
 ],
 "metadata": {
  "kernelspec": {
   "display_name": "Python 3",
   "language": "python",
   "name": "python3"
  },
  "language_info": {
   "codemirror_mode": {
    "name": "ipython",
    "version": 2
   },
   "file_extension": ".py",
   "mimetype": "text/x-python",
   "name": "python",
   "nbconvert_exporter": "python",
   "pygments_lexer": "ipython2",
   "version": "2.7.6"
  }
 },
 "nbformat": 4,
 "nbformat_minor": 0
}