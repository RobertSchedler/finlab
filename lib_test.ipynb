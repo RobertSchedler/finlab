{
 "cells": [
  {
   "cell_type": "code",
   "execution_count": 1,
   "metadata": {
    "collapsed": true,
    "pycharm": {
     "name": "#%%\n"
    }
   },
   "outputs": [],
   "source": [
    "import black_scholes as bs\n",
    "import fin_data_factory as fdf\n",
    "import fin_data_transforms as fdt\n",
    "import pandas as pd"
   ]
  },
  {
   "cell_type": "code",
   "execution_count": 2,
   "outputs": [],
   "source": [
    "S = 100  # Current stock price\n",
    "K = 100  # Strike price\n",
    "T = 1    # Time to expiration (1 year)\n",
    "r = 0.05 # Risk-free interest rate (5%)\n",
    "sigma = 0.2 # Volatility (20%)"
   ],
   "metadata": {
    "collapsed": false,
    "pycharm": {
     "name": "#%%\n"
    }
   }
  },
  {
   "cell_type": "code",
   "execution_count": 3,
   "outputs": [
    {
     "name": "stdout",
     "output_type": "stream",
     "text": [
      "10.450583572185565\n"
     ]
    }
   ],
   "source": [
    "call_price = bs.black_scholes_call(S, K, T, r, sigma)\n",
    "print(call_price)"
   ],
   "metadata": {
    "collapsed": false,
    "pycharm": {
     "name": "#%%\n"
    }
   }
  },
  {
   "cell_type": "code",
   "execution_count": 4,
   "outputs": [
    {
     "name": "stdout",
     "output_type": "stream",
     "text": [
      "5.573526022256971\n"
     ]
    }
   ],
   "source": [
    "put_price = bs.black_scholes_put(S, K, T, r, sigma)\n",
    "print(put_price)"
   ],
   "metadata": {
    "collapsed": false,
    "pycharm": {
     "name": "#%%\n"
    }
   }
  },
  {
   "cell_type": "code",
   "execution_count": 5,
   "outputs": [
    {
     "name": "stderr",
     "output_type": "stream",
     "text": [
      "[*********************100%%**********************]  1 of 1 completed"
     ]
    },
    {
     "name": "stdout",
     "output_type": "stream",
     "text": [
      "                  Open        High         Low       Close   Adj Close  \\\n",
      "Date                                                                     \n",
      "2023-01-03  130.279999  130.899994  124.169998  125.070000  124.216309   \n",
      "2023-01-04  126.889999  128.660004  125.080002  126.360001  125.497498   \n",
      "2023-01-05  127.129997  127.769997  124.760002  125.019997  124.166649   \n",
      "2023-01-06  126.010002  130.289993  124.889999  129.619995  128.735229   \n",
      "2023-01-09  130.470001  133.410004  129.889999  130.149994  129.261597   \n",
      "...                ...         ...         ...         ...         ...   \n",
      "2023-03-24  158.860001  160.339996  157.850006  160.250000  159.399170   \n",
      "2023-03-27  159.940002  160.770004  157.869995  158.279999  157.439621   \n",
      "2023-03-28  157.970001  158.490005  155.979996  157.649994  156.812958   \n",
      "2023-03-29  159.369995  161.050003  159.350006  160.770004  159.916412   \n",
      "2023-03-30  161.529999  162.470001  161.270004  162.360001  161.497971   \n",
      "\n",
      "               Volume  \n",
      "Date                   \n",
      "2023-01-03  112117500  \n",
      "2023-01-04   89113600  \n",
      "2023-01-05   80962700  \n",
      "2023-01-06   87754700  \n",
      "2023-01-09   70790800  \n",
      "...               ...  \n",
      "2023-03-24   59196500  \n",
      "2023-03-27   52390300  \n",
      "2023-03-28   45992200  \n",
      "2023-03-29   51305700  \n",
      "2023-03-30   49501700  \n",
      "\n",
      "[61 rows x 6 columns]\n"
     ]
    },
    {
     "name": "stderr",
     "output_type": "stream",
     "text": [
      "\n"
     ]
    }
   ],
   "source": [
    "ticker_symbol = 'AAPL'\n",
    "start_date = '2023-01-01'\n",
    "end_date = '2023-03-31'\n",
    "stock_data = fdf.get_stock_data(ticker_symbol, start_date, end_date)\n",
    "\n",
    "print(stock_data)"
   ],
   "metadata": {
    "collapsed": false,
    "pycharm": {
     "name": "#%%\n"
    }
   }
  },
  {
   "cell_type": "code",
   "execution_count": 6,
   "outputs": [
    {
     "name": "stderr",
     "output_type": "stream",
     "text": [
      "[*********************100%%**********************]  1 of 1 completed\n",
      "C:\\github\\finlab\\fin_data_factory.py:42: FutureWarning: Series.__getitem__ treating keys as positions is deprecated. In a future version, integer keys will always be treated as labels (consistent with DataFrame behavior). To access a value by position, use `ser.iloc[pos]`\n",
      "  current_price = ticker.history(period='1d')['Close'][-1]\n"
     ]
    },
    {
     "name": "stdout",
     "output_type": "stream",
     "text": [
      "Available expiration dates:\n",
      "       index      contractSymbol             lastTradeDate  strike  lastPrice  \\\n",
      "3        3.0  SPY240401C00450000 2024-03-28 18:58:58+00:00   450.0      74.26   \n",
      "5        5.0  SPY240401C00460000 2024-03-28 19:20:06+00:00   460.0      64.27   \n",
      "7        7.0  SPY240401C00462000 2024-03-28 14:36:31+00:00   462.0      61.48   \n",
      "10      10.0  SPY240401C00475000 2024-03-28 19:00:48+00:00   475.0      49.30   \n",
      "17      17.0  SPY240401C00490000 2024-03-28 18:43:55+00:00   490.0      33.19   \n",
      "...      ...                 ...                       ...     ...        ...   \n",
      "6665  6665.0  SPY261218P00635000 2024-03-18 19:35:35+00:00   635.0     120.85   \n",
      "6669  6669.0  SPY261218P00680000 2024-02-14 14:49:10+00:00   680.0     183.30   \n",
      "6672  6672.0  SPY261218P00700000 2024-03-01 15:50:20+00:00   700.0     188.15   \n",
      "6675  6675.0  SPY261218P00750000 2024-02-06 15:42:10+00:00   750.0     255.00   \n",
      "6677  6677.0  SPY261218P00775000 2024-03-19 16:05:58+00:00   775.0     261.70   \n",
      "\n",
      "         bid     ask    change  percentChange  volume  ...  currency  \\\n",
      "3      73.08   73.56  4.010002       5.708188    12.0  ...       USD   \n",
      "5      63.09   63.56  4.249996       7.080966     6.0  ...       USD   \n",
      "7      61.03   61.56  3.320000       5.708390     4.0  ...       USD   \n",
      "10     48.04   48.57  1.939999       4.096281     2.0  ...       USD   \n",
      "17     33.05   33.58  7.219999      27.801308    28.0  ...       USD   \n",
      "...      ...     ...       ...            ...     ...  ...       ...   \n",
      "6665  109.00  114.00  0.000000       0.000000     2.0  ...       USD   \n",
      "6669  167.50  172.50  0.000000       0.000000     2.0  ...       USD   \n",
      "6672  174.00  179.00  0.000000       0.000000    20.0  ...       USD   \n",
      "6675  233.58  238.50  0.000000       0.000000   507.0  ...       USD   \n",
      "6677  249.00  254.00  0.000000       0.000000     3.0  ...       USD   \n",
      "\n",
      "      expirationDate optionType        P           S      K         T     R  \\\n",
      "3         2024-04-01       Call   73.320  523.070007  450.0  0.002740  0.04   \n",
      "5         2024-04-01       Call   63.325  523.070007  460.0  0.002740  0.04   \n",
      "7         2024-04-01       Call   61.295  523.070007  462.0  0.002740  0.04   \n",
      "10        2024-04-01       Call   48.305  523.070007  475.0  0.002740  0.04   \n",
      "17        2024-04-01       Call   33.315  523.070007  490.0  0.002740  0.04   \n",
      "...              ...        ...      ...         ...    ...       ...   ...   \n",
      "6665      2026-12-18        Put  111.500  523.070007  635.0  2.717808  0.04   \n",
      "6669      2026-12-18        Put  170.000  523.070007  680.0  2.717808  0.04   \n",
      "6672      2026-12-18        Put  176.500  523.070007  700.0  2.717808  0.04   \n",
      "6675      2026-12-18        Put  236.040  523.070007  750.0  2.717808  0.04   \n",
      "6677      2026-12-18        Put  251.500  523.070007  775.0  2.717808  0.04   \n",
      "\n",
      "        OT  impliedVolatility2  \n",
      "3     Call            1.347394  \n",
      "5     Call            1.178972  \n",
      "7     Call            1.118051  \n",
      "10    Call            0.906311  \n",
      "17    Call            0.657024  \n",
      "...    ...                 ...  \n",
      "6665   Put            0.241784  \n",
      "6669   Put            0.331223  \n",
      "6672   Put            0.312544  \n",
      "6675   Put            0.388546  \n",
      "6677   Put            0.383250  \n",
      "\n",
      "[4903 rows x 24 columns]\n",
      "\n",
      "****************************************************************************************************\n"
     ]
    },
    {
     "name": "stderr",
     "output_type": "stream",
     "text": [
      "C:\\github\\finlab\\fin_data_factory.py:42: FutureWarning: Series.__getitem__ treating keys as positions is deprecated. In a future version, integer keys will always be treated as labels (consistent with DataFrame behavior). To access a value by position, use `ser.iloc[pos]`\n",
      "  current_price = ticker.history(period='1d')['Close'][-1]\n"
     ]
    },
    {
     "data": {
      "text/plain": "       index      contractSymbol             lastTradeDate  strike  lastPrice  \\\n3        3.0  SPY240401C00450000 2024-03-28 18:58:58+00:00   450.0      74.26   \n5        5.0  SPY240401C00460000 2024-03-28 19:20:06+00:00   460.0      64.27   \n7        7.0  SPY240401C00462000 2024-03-28 14:36:31+00:00   462.0      61.48   \n10      10.0  SPY240401C00475000 2024-03-28 19:00:48+00:00   475.0      49.30   \n17      17.0  SPY240401C00490000 2024-03-28 18:43:55+00:00   490.0      33.19   \n...      ...                 ...                       ...     ...        ...   \n6665  6665.0  SPY261218P00635000 2024-03-18 19:35:35+00:00   635.0     120.85   \n6669  6669.0  SPY261218P00680000 2024-02-14 14:49:10+00:00   680.0     183.30   \n6672  6672.0  SPY261218P00700000 2024-03-01 15:50:20+00:00   700.0     188.15   \n6675  6675.0  SPY261218P00750000 2024-02-06 15:42:10+00:00   750.0     255.00   \n6677  6677.0  SPY261218P00775000 2024-03-19 16:05:58+00:00   775.0     261.70   \n\n         bid     ask    change  percentChange  volume  ...  currency  \\\n3      73.08   73.56  4.010002       5.708188    12.0  ...       USD   \n5      63.09   63.56  4.249996       7.080966     6.0  ...       USD   \n7      61.03   61.56  3.320000       5.708390     4.0  ...       USD   \n10     48.04   48.57  1.939999       4.096281     2.0  ...       USD   \n17     33.05   33.58  7.219999      27.801308    28.0  ...       USD   \n...      ...     ...       ...            ...     ...  ...       ...   \n6665  109.00  114.00  0.000000       0.000000     2.0  ...       USD   \n6669  167.50  172.50  0.000000       0.000000     2.0  ...       USD   \n6672  174.00  179.00  0.000000       0.000000    20.0  ...       USD   \n6675  233.58  238.50  0.000000       0.000000   507.0  ...       USD   \n6677  249.00  254.00  0.000000       0.000000     3.0  ...       USD   \n\n      expirationDate optionType        P           S      K         T     R  \\\n3         2024-04-01       Call   73.320  523.070007  450.0  0.002740  0.04   \n5         2024-04-01       Call   63.325  523.070007  460.0  0.002740  0.04   \n7         2024-04-01       Call   61.295  523.070007  462.0  0.002740  0.04   \n10        2024-04-01       Call   48.305  523.070007  475.0  0.002740  0.04   \n17        2024-04-01       Call   33.315  523.070007  490.0  0.002740  0.04   \n...              ...        ...      ...         ...    ...       ...   ...   \n6665      2026-12-18        Put  111.500  523.070007  635.0  2.717808  0.04   \n6669      2026-12-18        Put  170.000  523.070007  680.0  2.717808  0.04   \n6672      2026-12-18        Put  176.500  523.070007  700.0  2.717808  0.04   \n6675      2026-12-18        Put  236.040  523.070007  750.0  2.717808  0.04   \n6677      2026-12-18        Put  251.500  523.070007  775.0  2.717808  0.04   \n\n        OT  impliedVolatility2  \n3     Call            1.347394  \n5     Call            1.178972  \n7     Call            1.118051  \n10    Call            0.906311  \n17    Call            0.657024  \n...    ...                 ...  \n6665   Put            0.241784  \n6669   Put            0.331223  \n6672   Put            0.312544  \n6675   Put            0.388546  \n6677   Put            0.383250  \n\n[4903 rows x 24 columns]",
      "text/html": "<div>\n<style scoped>\n    .dataframe tbody tr th:only-of-type {\n        vertical-align: middle;\n    }\n\n    .dataframe tbody tr th {\n        vertical-align: top;\n    }\n\n    .dataframe thead th {\n        text-align: right;\n    }\n</style>\n<table border=\"1\" class=\"dataframe\">\n  <thead>\n    <tr style=\"text-align: right;\">\n      <th></th>\n      <th>index</th>\n      <th>contractSymbol</th>\n      <th>lastTradeDate</th>\n      <th>strike</th>\n      <th>lastPrice</th>\n      <th>bid</th>\n      <th>ask</th>\n      <th>change</th>\n      <th>percentChange</th>\n      <th>volume</th>\n      <th>...</th>\n      <th>currency</th>\n      <th>expirationDate</th>\n      <th>optionType</th>\n      <th>P</th>\n      <th>S</th>\n      <th>K</th>\n      <th>T</th>\n      <th>R</th>\n      <th>OT</th>\n      <th>impliedVolatility2</th>\n    </tr>\n  </thead>\n  <tbody>\n    <tr>\n      <th>3</th>\n      <td>3.0</td>\n      <td>SPY240401C00450000</td>\n      <td>2024-03-28 18:58:58+00:00</td>\n      <td>450.0</td>\n      <td>74.26</td>\n      <td>73.08</td>\n      <td>73.56</td>\n      <td>4.010002</td>\n      <td>5.708188</td>\n      <td>12.0</td>\n      <td>...</td>\n      <td>USD</td>\n      <td>2024-04-01</td>\n      <td>Call</td>\n      <td>73.320</td>\n      <td>523.070007</td>\n      <td>450.0</td>\n      <td>0.002740</td>\n      <td>0.04</td>\n      <td>Call</td>\n      <td>1.347394</td>\n    </tr>\n    <tr>\n      <th>5</th>\n      <td>5.0</td>\n      <td>SPY240401C00460000</td>\n      <td>2024-03-28 19:20:06+00:00</td>\n      <td>460.0</td>\n      <td>64.27</td>\n      <td>63.09</td>\n      <td>63.56</td>\n      <td>4.249996</td>\n      <td>7.080966</td>\n      <td>6.0</td>\n      <td>...</td>\n      <td>USD</td>\n      <td>2024-04-01</td>\n      <td>Call</td>\n      <td>63.325</td>\n      <td>523.070007</td>\n      <td>460.0</td>\n      <td>0.002740</td>\n      <td>0.04</td>\n      <td>Call</td>\n      <td>1.178972</td>\n    </tr>\n    <tr>\n      <th>7</th>\n      <td>7.0</td>\n      <td>SPY240401C00462000</td>\n      <td>2024-03-28 14:36:31+00:00</td>\n      <td>462.0</td>\n      <td>61.48</td>\n      <td>61.03</td>\n      <td>61.56</td>\n      <td>3.320000</td>\n      <td>5.708390</td>\n      <td>4.0</td>\n      <td>...</td>\n      <td>USD</td>\n      <td>2024-04-01</td>\n      <td>Call</td>\n      <td>61.295</td>\n      <td>523.070007</td>\n      <td>462.0</td>\n      <td>0.002740</td>\n      <td>0.04</td>\n      <td>Call</td>\n      <td>1.118051</td>\n    </tr>\n    <tr>\n      <th>10</th>\n      <td>10.0</td>\n      <td>SPY240401C00475000</td>\n      <td>2024-03-28 19:00:48+00:00</td>\n      <td>475.0</td>\n      <td>49.30</td>\n      <td>48.04</td>\n      <td>48.57</td>\n      <td>1.939999</td>\n      <td>4.096281</td>\n      <td>2.0</td>\n      <td>...</td>\n      <td>USD</td>\n      <td>2024-04-01</td>\n      <td>Call</td>\n      <td>48.305</td>\n      <td>523.070007</td>\n      <td>475.0</td>\n      <td>0.002740</td>\n      <td>0.04</td>\n      <td>Call</td>\n      <td>0.906311</td>\n    </tr>\n    <tr>\n      <th>17</th>\n      <td>17.0</td>\n      <td>SPY240401C00490000</td>\n      <td>2024-03-28 18:43:55+00:00</td>\n      <td>490.0</td>\n      <td>33.19</td>\n      <td>33.05</td>\n      <td>33.58</td>\n      <td>7.219999</td>\n      <td>27.801308</td>\n      <td>28.0</td>\n      <td>...</td>\n      <td>USD</td>\n      <td>2024-04-01</td>\n      <td>Call</td>\n      <td>33.315</td>\n      <td>523.070007</td>\n      <td>490.0</td>\n      <td>0.002740</td>\n      <td>0.04</td>\n      <td>Call</td>\n      <td>0.657024</td>\n    </tr>\n    <tr>\n      <th>...</th>\n      <td>...</td>\n      <td>...</td>\n      <td>...</td>\n      <td>...</td>\n      <td>...</td>\n      <td>...</td>\n      <td>...</td>\n      <td>...</td>\n      <td>...</td>\n      <td>...</td>\n      <td>...</td>\n      <td>...</td>\n      <td>...</td>\n      <td>...</td>\n      <td>...</td>\n      <td>...</td>\n      <td>...</td>\n      <td>...</td>\n      <td>...</td>\n      <td>...</td>\n      <td>...</td>\n    </tr>\n    <tr>\n      <th>6665</th>\n      <td>6665.0</td>\n      <td>SPY261218P00635000</td>\n      <td>2024-03-18 19:35:35+00:00</td>\n      <td>635.0</td>\n      <td>120.85</td>\n      <td>109.00</td>\n      <td>114.00</td>\n      <td>0.000000</td>\n      <td>0.000000</td>\n      <td>2.0</td>\n      <td>...</td>\n      <td>USD</td>\n      <td>2026-12-18</td>\n      <td>Put</td>\n      <td>111.500</td>\n      <td>523.070007</td>\n      <td>635.0</td>\n      <td>2.717808</td>\n      <td>0.04</td>\n      <td>Put</td>\n      <td>0.241784</td>\n    </tr>\n    <tr>\n      <th>6669</th>\n      <td>6669.0</td>\n      <td>SPY261218P00680000</td>\n      <td>2024-02-14 14:49:10+00:00</td>\n      <td>680.0</td>\n      <td>183.30</td>\n      <td>167.50</td>\n      <td>172.50</td>\n      <td>0.000000</td>\n      <td>0.000000</td>\n      <td>2.0</td>\n      <td>...</td>\n      <td>USD</td>\n      <td>2026-12-18</td>\n      <td>Put</td>\n      <td>170.000</td>\n      <td>523.070007</td>\n      <td>680.0</td>\n      <td>2.717808</td>\n      <td>0.04</td>\n      <td>Put</td>\n      <td>0.331223</td>\n    </tr>\n    <tr>\n      <th>6672</th>\n      <td>6672.0</td>\n      <td>SPY261218P00700000</td>\n      <td>2024-03-01 15:50:20+00:00</td>\n      <td>700.0</td>\n      <td>188.15</td>\n      <td>174.00</td>\n      <td>179.00</td>\n      <td>0.000000</td>\n      <td>0.000000</td>\n      <td>20.0</td>\n      <td>...</td>\n      <td>USD</td>\n      <td>2026-12-18</td>\n      <td>Put</td>\n      <td>176.500</td>\n      <td>523.070007</td>\n      <td>700.0</td>\n      <td>2.717808</td>\n      <td>0.04</td>\n      <td>Put</td>\n      <td>0.312544</td>\n    </tr>\n    <tr>\n      <th>6675</th>\n      <td>6675.0</td>\n      <td>SPY261218P00750000</td>\n      <td>2024-02-06 15:42:10+00:00</td>\n      <td>750.0</td>\n      <td>255.00</td>\n      <td>233.58</td>\n      <td>238.50</td>\n      <td>0.000000</td>\n      <td>0.000000</td>\n      <td>507.0</td>\n      <td>...</td>\n      <td>USD</td>\n      <td>2026-12-18</td>\n      <td>Put</td>\n      <td>236.040</td>\n      <td>523.070007</td>\n      <td>750.0</td>\n      <td>2.717808</td>\n      <td>0.04</td>\n      <td>Put</td>\n      <td>0.388546</td>\n    </tr>\n    <tr>\n      <th>6677</th>\n      <td>6677.0</td>\n      <td>SPY261218P00775000</td>\n      <td>2024-03-19 16:05:58+00:00</td>\n      <td>775.0</td>\n      <td>261.70</td>\n      <td>249.00</td>\n      <td>254.00</td>\n      <td>0.000000</td>\n      <td>0.000000</td>\n      <td>3.0</td>\n      <td>...</td>\n      <td>USD</td>\n      <td>2026-12-18</td>\n      <td>Put</td>\n      <td>251.500</td>\n      <td>523.070007</td>\n      <td>775.0</td>\n      <td>2.717808</td>\n      <td>0.04</td>\n      <td>Put</td>\n      <td>0.383250</td>\n    </tr>\n  </tbody>\n</table>\n<p>4903 rows × 24 columns</p>\n</div>"
     },
     "metadata": {},
     "output_type": "display_data"
    }
   ],
   "source": [
    "ticker_symbol = 'SPY'\n",
    "start_date = '2023-01-01'\n",
    "end_date = '2023-03-31'\n",
    "stock_data = fdf.get_stock_data(ticker_symbol, start_date, end_date)\n",
    "# Fetch available expiration dates\n",
    "expiration_dates = fdf.get_options_chain(ticker_symbol)\n",
    "print(\"Available expiration dates:\")\n",
    "print(expiration_dates)\n",
    "print(\"\\n****************************************************************************************************\")\n",
    "chain = fdf.get_options_chain(ticker_symbol)\n",
    "display(chain)"
   ],
   "metadata": {
    "collapsed": false,
    "pycharm": {
     "name": "#%%\n"
    }
   }
  },
  {
   "cell_type": "code",
   "execution_count": 7,
   "outputs": [
    {
     "name": "stdout",
     "output_type": "stream",
     "text": [
      "Plot saved as chainP.html\n"
     ]
    }
   ],
   "source": [
    "fdt.plot_vol_surface(chain.where(chain['OT'] == 'Put'),'chainP')"
   ],
   "metadata": {
    "collapsed": false,
    "pycharm": {
     "name": "#%%\n"
    }
   }
  },
  {
   "cell_type": "code",
   "execution_count": 8,
   "outputs": [
    {
     "name": "stdout",
     "output_type": "stream",
     "text": [
      "Plot saved as chainC.html\n"
     ]
    }
   ],
   "source": [
    "fdt.plot_vol_surface(chain.where(chain['OT'] == 'Call'),'chainC')"
   ],
   "metadata": {
    "collapsed": false,
    "pycharm": {
     "name": "#%%\n"
    }
   }
  },
  {
   "cell_type": "code",
   "execution_count": 9,
   "outputs": [
    {
     "name": "stdout",
     "output_type": "stream",
     "text": [
      "Plot saved as chain.html\n"
     ]
    }
   ],
   "source": [
    "fdt.plot_vol_surface(chain,'chain')"
   ],
   "metadata": {
    "collapsed": false,
    "pycharm": {
     "name": "#%%\n"
    }
   }
  }
 ],
 "metadata": {
  "kernelspec": {
   "display_name": "Python 3",
   "language": "python",
   "name": "python3"
  },
  "language_info": {
   "codemirror_mode": {
    "name": "ipython",
    "version": 2
   },
   "file_extension": ".py",
   "mimetype": "text/x-python",
   "name": "python",
   "nbconvert_exporter": "python",
   "pygments_lexer": "ipython2",
   "version": "2.7.6"
  }
 },
 "nbformat": 4,
 "nbformat_minor": 0
}